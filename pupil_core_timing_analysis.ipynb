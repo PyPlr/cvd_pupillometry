{
 "cells": [
  {
   "cell_type": "markdown",
   "metadata": {},
   "source": [
    "Pupil Core device timing\n",
    "========================\n",
    "\n",
    "`PupilCore().light_stamper(...)` stamps light stimuli with the timestamp associated with the first frame where a light becomes visible to the world camera. This timestamp is ultimately what gets used to extract pupil data and as a reference for calculating time-critical measures, such as constriction latency and time-to-peak constriction. The validity of any time-related measures therefore depends on Pupil Capture's ability to synchronise the clocks of the cameras on a Pupil Core headset, but how well does it handle this task? When we discovered that the near-infrared from STLAB's amber channel gets detected by both eye and world cameras, we realised that we could test it ourselves using the `.light_stamper(...)` method. The protocol basically involves putting the Pupil Core headset inside the integrating sphere and repeatedly flashing a bright orange light in a dark room. Prior to each flash, we instantiate a `.light_stamper(...)` for each of the cameras. This gives us the pupil timestamp where the light was detected for each camera, allowing us to check how well the data streams are synchronised.\n"
   ]
  },
  {
   "cell_type": "markdown",
   "metadata": {},
   "source": [
    "Testing protocol\n",
    "----------------"
   ]
  },
  {
   "cell_type": "code",
   "execution_count": 1,
   "metadata": {},
   "outputs": [
    {
     "name": "stdout",
     "output_type": "stream",
     "text": [
      "STLAB device setup complete...\n",
      "\"1s_near_IR_pulse.dsf\" saved in the current working directory.\n",
      "video file loaded...\n",
      "Waiting for a light to stamp...\n",
      "Waiting for a light to stamp...\n",
      "Waiting for a light to stamp...\n",
      "playing video file...\n",
      "Light stamped on frame.eye.1 at 441592.275011\n",
      "Light stamped on frame.world at 441592.22962\n",
      "Light stamped on frame.eye.0 at 441592.284636\n",
      "Waiting for a light to stamp...\n",
      "Waiting for a light to stamp...\n",
      "Waiting for a light to stamp...\n",
      "playing video file...\n",
      "Light stamped on frame.world at 441599.40408199996\n",
      "Light stamped on frame.eye.1 at 441599.463925\n",
      "Light stamped on frame.eye.0 at 441599.46389\n",
      "Waiting for a light to stamp...\n",
      "Waiting for a light to stamp...\n",
      "Waiting for a light to stamp...\n",
      "playing video file...\n",
      "Light stamped on frame.world at 441606.587979\n",
      "Light stamped on frame.eye.1 at 441606.64714799996\n",
      "Light stamped on frame.eye.0 at 441606.651018\n"
     ]
    },
    {
     "data": {
      "text/plain": [
       "'OK'"
      ]
     },
     "execution_count": 1,
     "metadata": {},
     "output_type": "execute_result"
    }
   ],
   "source": [
    "from time import sleep\n",
    "\n",
    "from pyplr.stlab import SpectraTuneLab, pulse_protocol\n",
    "from pyplr.pupil import PupilCore\n",
    "\n",
    "# set up pupil\n",
    "p = PupilCore()\n",
    "\n",
    "# setup stlab and make spectrum with near-IR\n",
    "d = SpectraTuneLab(password='83e47941d9e930f6')\n",
    "spec = [0, 0, 0, 0, 0, 0, 0, 4095, 0, 0]\n",
    "pulse_protocol(spec, 1000, '1s_near_IR_pulse')\n",
    "d.load_video_file('1s_near_IR_pulse.dsf')\n",
    "\n",
    "# trigger params\n",
    "threshold = 10\n",
    "timeout = 6.\n",
    "\n",
    "# make annotations for each camera\n",
    "world_annotation = p.new_annotation('LIGHT_ON_WORLD')\n",
    "eye_0_annotation = p.new_annotation('LIGHT_ON_EYE_0')\n",
    "eye_1_annotation = p.new_annotation('LIGHT_ON_EYE_1')\n",
    "\n",
    "# start recording and wait 10 s\n",
    "p.command('R pupil_core_camera_sync_tests')\n",
    "sleep(5.)\n",
    "\n",
    "# results\n",
    "results = {'world': [],\n",
    "           'eye_0': [],\n",
    "           'eye_1': []}\n",
    "\n",
    "# begin testing protocol\n",
    "for i in range(50):\n",
    "    # start light_stampers\n",
    "    lst_world = p.light_stamper(\n",
    "        world_annotation, threshold, timeout,\n",
    "        topic='frame.world')\n",
    "    lst_eye_0 = p.light_stamper(\n",
    "        eye_0_annotation, threshold, timeout,\n",
    "        topic='frame.eye.0')\n",
    "    lst_eye_1 = p.light_stamper(\n",
    "        eye_1_annotation, threshold, timeout, \n",
    "        topic='frame.eye.1')\n",
    "    \n",
    "    # wait 100 ms then flash light\n",
    "    sleep(1.)\n",
    "    d.play_video_file()\n",
    "    \n",
    "    sleep(timeout)\n",
    "    \n",
    "    results['world'].append(lst_world.result())\n",
    "    results['eye_0'].append(lst_eye_0.result())\n",
    "    results['eye_1'].append(lst_eye_1.result())\n",
    "\n",
    "# wait for 5 s and stop recording\n",
    "sleep(5.)   \n",
    "p.command('r')"
   ]
  },
  {
   "cell_type": "markdown",
   "metadata": {},
   "source": [
    "Only three trials are printed above, but we actually performed the test for 50 trials. Looks like the world camera leads by about 60 ms, with eye cameras closely in sync with one another. "
   ]
  },
  {
   "cell_type": "code",
   "execution_count": 9,
   "metadata": {},
   "outputs": [
    {
     "data": {
      "text/plain": [
       "<seaborn.axisgrid.FacetGrid at 0x28054ae1408>"
      ]
     },
     "execution_count": 9,
     "metadata": {},
     "output_type": "execute_result"
    },
    {
     "data": {
      "image/png": "[encoded data removed]",
      "text/plain": [
       "<Figure size 360x360 with 1 Axes>"
      ]
     },
     "metadata": {
      "needs_background": "light"
     },
     "output_type": "display_data"
    }
   ],
   "source": [
    "import numpy as np\n",
    "import pandas as pd\n",
    "import matplotlib.pyplot as plt\n",
    "import seaborn as sns\n",
    "\n",
    "for k in results.keys():\n",
    "    results[k] = np.array([val[1] for val in results[k]])\n",
    "    \n",
    "df = pd.DataFrame(results)\n",
    "diffs = (pd.DataFrame([(df.eye_0-df.world)*1000, \n",
    "                       (df.eye_1-df.world)*1000,\n",
    "                       (df.eye_0-df.eye_1)*1000], \n",
    "                      index=['eye0 - world',\n",
    "                             'eye1 - world',\n",
    "                             'eye0 - eye1'])\n",
    "           .T.melt(var_name='camdiff', value_name='timestamp'))\n",
    "g = sns.catplot(x=\"camdiff\", y=\"timestamp\", data=diffs, kind='box')\n",
    "(g.set(xlabel='Comparison',\n",
    "       ylabel='Time difference (ms)'))"
   ]
  },
  {
   "cell_type": "code",
   "execution_count": 12,
   "metadata": {},
   "outputs": [],
   "source": [
    "diffs.to_csv('win_sync_tests.csv')"
   ]
  },
  {
   "cell_type": "markdown",
   "metadata": {},
   "source": [
    "MacOS\n",
    "-----\n",
    "\n",
    "Results"
   ]
  },
  {
   "cell_type": "markdown",
   "metadata": {},
   "source": [
    "Windows\n",
    "-------\n",
    "\n",
    "Results"
   ]
  },
  {
   "cell_type": "markdown",
   "metadata": {},
   "source": [
    "Implications for latency measures\n",
    "---------------------------------\n",
    "\n",
    "- biological implausability on mac\n",
    "- Repeatability and possibility of correction\n",
    "- etc.\n"
   ]
  }
 ],
 "metadata": {
  "kernelspec": {
   "display_name": "Python 3",
   "language": "python",
   "name": "python3"
  },
  "language_info": {
   "codemirror_mode": {
    "name": "ipython",
    "version": 3
   },
   "file_extension": ".py",
   "mimetype": "text/x-python",
   "name": "python",
   "nbconvert_exporter": "python",
   "pygments_lexer": "ipython3",
   "version": "3.7.7"
  }
 },
 "nbformat": 4,
 "nbformat_minor": 4
}
