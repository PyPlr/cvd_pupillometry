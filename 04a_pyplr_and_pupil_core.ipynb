{
 "cells": [
  {
   "cell_type": "markdown",
   "metadata": {},
   "source": [
    "*PyPlr* and Pupil Core\n",
    "==========================\n",
    "*PyPlr* was designed to work with with [Pupil Core](https://pupil-labs.com/products/core/)—an affordable, open-source, versatile, research-grade eye tracking ecosystem with high sampling rates, precise model-based 3D estimation of pupil size, and many other features which make it well-suited to our application (see [Kassner et al., 2014](https://arxiv.org/abs/1405.0006), for a detailed overview of the system). In particular, we leverage real-time data streaming with the forward facing World Camera to timestamp the onset of light stimuli with good temporal accuracy, opening the door to integration with virtually any light source given a suitable geometry.\n",
    "\n",
    "The best place to start learning more about Pupil Core is on the [Pupil Labs website](https://docs.pupil-labs.com/core/), but the features most relevant to *PyPlr* are:\n",
    "\n",
    "* [Pupil Capture](https://docs.pupil-labs.com/core/software/pupil-capture/#world-window)—Software for interfacing with a Pupil Core headset.\n",
    "* [Pupil Player](https://docs.pupil-labs.com/core/software/pupil-player/#load-a-recording)—Software for visualising and exporting data.\n",
    "* [Pupil Core Network API](https://docs.pupil-labs.com/developer/core/network-api/)—Fast and reliable real-time communication and data streaming with [ZeroMQ](https://zeromq.org/) (an open source universal messaging library) and [MessagePack](https://msgpack.org/index.html) (a binary format for computer data interchange).\n",
    "\n",
    "*PyPlr*'s `pupil.py` module\n",
    "---------------------------\n",
    "*PyPlr* has a module called `pupil.py` which facilitates working with the Pupil Core Network API by wrapping all of the tricky ZeroMQ and MessagePack stuff into a single device class called `PupilCore()`. This class has a `.command(...)` method giving convenient access to all of the commands available via [Pupil Remote](https://docs.pupil-labs.com/developer/core/network-api/#pupil-remote). With Pupil Capture already running, we can make a short recording as follows:"
   ]
  },
  {
   "cell_type": "code",
   "execution_count": 3,
   "metadata": {},
   "outputs": [
    {
     "data": {
      "text/plain": [
       "'OK'"
      ]
     },
     "execution_count": 3,
     "metadata": {},
     "output_type": "execute_result"
    }
   ],
   "source": [
    "from time import sleep\n",
    "from pyplr.pupil import PupilCore\n",
    "\n",
    "p = PupilCore()\n",
    "\n",
    "p.command('R our_recording')\n",
    "\n",
    "sleep(10)\n",
    "\n",
    "p.command('r')"
   ]
  },
  {
   "cell_type": "markdown",
   "metadata": {},
   "source": [
    "Annotations and notifications\n",
    "-----------------------------\n",
    "To extract experimental events and calculate time-critical PLR parameters (e.g., constriction latency, time-to-peak constriction) we need a reliable indication in the pupil data of the time at which a light stimulus was administered. The Pupil Labs [Annotation Capture](https://docs.pupil-labs.com/core/software/pupil-capture/#annotations) plugin helps us with this. The plugin allows timestamps to be marked with a label, which is basically the same as sending a 'trigger', 'message', or 'event marker'. Annotations can be made programmatically with `.new_annotation(...)` and sent with `.send_annotation(...)`. It's important to make sure that the Annotation Capture plugin has been enabled. You can do this manually in the Pupil Capture GUI or programmatically by sending a [notification message](https://docs.pupil-labs.com/developer/core/network-api/#notification-message), which is a special kind of message that the Pupil software uses to coordinate all activities. The following example shows how to enable the Annotation Capture plugin with a notification and then sends an annotation with the label `'my_event'` halfway through a 10 second recording."
   ]
  },
  {
   "cell_type": "code",
   "execution_count": 12,
   "metadata": {},
   "outputs": [
    {
     "data": {
      "text/plain": [
       "'OK'"
      ]
     },
     "execution_count": 12,
     "metadata": {},
     "output_type": "execute_result"
    }
   ],
   "source": [
    "p = PupilCore()\n",
    "\n",
    "p.notify({'subject': 'start_plugin',\n",
    "          'name': 'Annotation_Capture',\n",
    "          'args': {}\n",
    "          }) \n",
    "\n",
    "p.command('R our_recording')\n",
    "\n",
    "sleep(5.)\n",
    "\n",
    "annotation = p.new_annotation(\n",
    "    label='my_event', \n",
    "    custom_fields={'whatever':'info','you':'want'})\n",
    "\n",
    "p.send_annotation(annotation)\n",
    "\n",
    "sleep(5.)\n",
    "\n",
    "p.command('r')"
   ]
  },
  {
   "cell_type": "markdown",
   "metadata": {},
   "source": [
    "Once the recording is finished, we can open it with Pupil Player and use the [Annotation Player](https://docs.pupil-labs.com/core/software/pupil-player/#annotation-export) plugin to view and export the annotations to CSV format. Any custom labels assigned to the annotation will be included as a column in the exported CSV file. By default, the timestamp of an annotation made with the `.new_annotation(...)` method is set with ``.get_corrected_pupil_time(...)``, which gives the current pupil time (corrected for transmission delay), but this can be overridden at a later point if desired. \n",
    "\n",
    "Notifications can be used for many things, but there is no single exhaustive document. One way to find out what you can manipulate with a notification is to open [the codebase](https://github.com/pupil-labs/pupil) and search for `.notify_all(` and `def on_notify(`. Alternatively, you can subscribe to the properties of a plugin and then send a notification telling it to broadcast its properties. For example:"
   ]
  },
  {
   "cell_type": "code",
   "execution_count": 6,
   "metadata": {},
   "outputs": [
    {
     "name": "stdout",
     "output_type": "stream",
     "text": [
      "('notify.pupil_detector.properties.0.Detector2DPlugin',\n",
      " {'subject': 'pupil_detector.properties.0.Detector2DPlugin',\n",
      "  'topic': 'notify.pupil_detector.properties.0.Detector2DPlugin',\n",
      "  'values': {'blur_size': 5,\n",
      "             'canny_aperture': 5,\n",
      "             'canny_ration': 2,\n",
      "             'canny_treshold': 160,\n",
      "             'coarse_detection': True,\n",
      "             'coarse_filter_max': 280,\n",
      "             'coarse_filter_min': 128,\n",
      "             'contour_size_min': 5,\n",
      "             'ellipse_roundness_ratio': 0.1,\n",
      "             'ellipse_true_support_min_dist': 2.5,\n",
      "             'final_perimeter_ratio_range_max': 1.2,\n",
      "             'final_perimeter_ratio_range_min': 0.6,\n",
      "             'initial_ellipse_fit_treshhold': 1.8,\n",
      "             'intensity_range': 23,\n",
      "             'pupil_size_max': 100,\n",
      "             'pupil_size_min': 10,\n",
      "             'strong_area_ratio_range_max': 1.1,\n",
      "             'strong_area_ratio_range_min': 0.6,\n",
      "             'strong_perimeter_ratio_range_max': 1.1,\n",
      "             'strong_perimeter_ratio_range_min': 0.8,\n",
      "             'support_pixel_ratio_exponent': 2.0}})\n"
     ]
    }
   ],
   "source": [
    "p = PupilCore()\n",
    "\n",
    "s = p.subscribe_to_topic(topic='notify.pupil_detector.properties')\n",
    "\n",
    "p.notify({\n",
    "    'topic': 'notify.pupil_detector.broadcast_properties',\n",
    "    'subject': 'pupil_detector.broadcast_properties',\n",
    "    'eye_id': 0\n",
    "    })\n",
    "\n",
    "properties = p.recv_from_subscriber(s)\n",
    "pprint(properties)"
   ]
  },
  {
   "cell_type": "markdown",
   "metadata": {},
   "source": [
    "Bare in mind that for most use cases it will be best to verify manually in Pupil Capture that all of your most important settings are as they should be."
   ]
  },
  {
   "cell_type": "markdown",
   "metadata": {},
   "source": [
    "Getting pupil data in real-time\n",
    "-------------------------------\n",
    "\n",
    "The Pupil Capture continuously generates data from the camera frames it receives from a Pupil Core headset and makes them available via the [IPC backbone](https://docs.pupil-labs.com/developer/core/network-api/#reading-from-the-ipc-backbone). `PupilCore()` has a `.pupil_grabber(...)` method which simplifies access to these data. Just specify the topic of interest and how long you want to spend grabbing data:"
   ]
  },
  {
   "cell_type": "code",
   "execution_count": 15,
   "metadata": {},
   "outputs": [
    {
     "name": "stdout",
     "output_type": "stream",
     "text": [
      "Grabbing 10 seconds of pupil.1.3d\n",
      "PupilGrabber done grabbing 10 seconds of pupil.1.3d\n"
     ]
    }
   ],
   "source": [
    "p = PupilCore()\n",
    "pgr_future = p.pupil_grabber(topic='pupil.1.3d', seconds=10)"
   ]
  },
  {
   "cell_type": "markdown",
   "metadata": {},
   "source": [
    "Crucially, `.pupil_grabber(...)` does its work in a thread using Python's `concurrent.futures` framework, returning a `Future` object that grants access to the data once the thread has concluded:"
   ]
  },
  {
   "cell_type": "code",
   "execution_count": 21,
   "metadata": {},
   "outputs": [
    {
     "data": {
      "text/plain": [
       "{'id': 1,\n",
       " 'topic': 'pupil.1.3d',\n",
       " 'method': 'pye3d 0.0.5 real-time',\n",
       " 'norm_pos': [0.3985542681895381, 0.4872121928497438],\n",
       " 'diameter': 31.07015699622092,\n",
       " 'confidence': 1.0,\n",
       " 'timestamp': 59132.475851,\n",
       " 'sphere': {'center': [3.0121959398542617,\n",
       "   3.0584489808353905,\n",
       "   38.774452202770995],\n",
       "  'radius': 10.392304845413264},\n",
       " 'projected_sphere': {'center': [186.13898262425758, 146.6007379485103],\n",
       "  'axes': [217.5786515706832, 217.5786515706832],\n",
       "  'angle': 0.0},\n",
       " 'circle_3d': {'center': [-3.473979035519928,\n",
       "   -0.08232400147758101,\n",
       "   31.286790400686012],\n",
       "  'normal': [-0.624132478007217, -0.3022210211336496, -0.7205005928391071],\n",
       "  'radius': 1.2067793333387498},\n",
       " 'diameter_3d': 2.1463475823932923,\n",
       " 'ellipse': {'center': [127.5373658206522, 123.06907371606148],\n",
       "  'axes': [23.254159848837222, 31.07015699622092],\n",
       "  'angle': 23.552991071760573},\n",
       " 'location': [127.5373658206522, 123.06907371606148],\n",
       " 'model_confidence': 1.0,\n",
       " 'theta': 1.8778180987009694,\n",
       " 'phi': -2.2846481119511255}"
      ]
     },
     "execution_count": 21,
     "metadata": {},
     "output_type": "execute_result"
    }
   ],
   "source": [
    "data = pgr_future.result()\n",
    "data[0]"
   ]
  },
  {
   "cell_type": "markdown",
   "metadata": {},
   "source": [
    "The data are returned as a list of dictionaries, with each dictionary representing a single [data point](https://docs.pupil-labs.com/developer/core/overview/#timing-data-conventions). With the `unpack_data_pandas(...)` helper function from `pyplr.utils`, we can organise the whole lot and inspect the pupil timecourse:"
   ]
  },
  {
   "cell_type": "code",
   "execution_count": 22,
   "metadata": {},
   "outputs": [
    {
     "data": {
      "image/png": "[encoded data removed]",
      "text/plain": [
       "<Figure size 1008x288 with 1 Axes>"
      ]
     },
     "metadata": {
      "needs_background": "light"
     },
     "output_type": "display_data"
    }
   ],
   "source": [
    "import matplotlib.pyplot as plt\n",
    "from pyplr.utils import unpack_data_pandas\n",
    "\n",
    "data = unpack_data_pandas(data)\n",
    "ax = data['diameter_3d'].plot(figsize=(14,4))\n",
    "ax.set_ylabel('Pupil diameter (mm)')\n",
    "ax.set_xlabel('Pupil timestamp (s)')"
   ]
  },
  {
   "cell_type": "markdown",
   "metadata": {},
   "source": [
    "Timestamping a light stimulus\n",
    "-----------------------------\n",
    "The simplest way to timestamp a light stimulus would be to control the light source programatically and send an annotation as close as possible to when we change the status of the light:"
   ]
  },
  {
   "cell_type": "markdown",
   "metadata": {},
   "source": [
    "```Python\n",
    "p = PupilCore()\n",
    "p.command('R')\n",
    "sleep(5.)\n",
    "annotation = p.new_annotation('LIGHT_ON')\n",
    "p.send_annotation(annotation)\n",
    "my_light.on() # turn hypothetical light source on\n",
    "sleep(1.)\n",
    "my_light.off() # now turn it off\n",
    "sleep(5.)\n",
    "p.command('r')\n",
    "```"
   ]
  },
  {
   "cell_type": "markdown",
   "metadata": {},
   "source": [
    "But in reality this will be problematic as the light source will have a latency of its own, which is difficult to reference. In fact, the light source we have been using takes commands via generic HTTP requests and has a variable response time on the order of a few hundred miliseconds. Given that we may want to calculate pupil constriction latency to a light stimulus, which is typically around 200-300 ms, this variable latency is problematic.\n",
    "\n",
    "To solve the issue and to make it easy to integrate *PyPlr* and Pupil Core with any light source, we developed a method called `.light_stamper(...)`. This method uses real-time data from the forward facing World Camera to timestamp light onsets based on the average RGB value."
   ]
  },
  {
   "cell_type": "code",
   "execution_count": 5,
   "metadata": {},
   "outputs": [
    {
     "name": "stdout",
     "output_type": "stream",
     "text": [
      "Waiting for a light to stamp...\n",
      "Light stamped on frame.world at 678425.8230890001\n"
     ]
    },
    {
     "data": {
      "text/plain": [
       "(True, 678425.8230890001)"
      ]
     },
     "execution_count": 5,
     "metadata": {},
     "output_type": "execute_result"
    }
   ],
   "source": [
    "p = PupilCore()\n",
    "\n",
    "p.notify({'subject': 'start_plugin',\n",
    "          'name': 'Annotation_Capture',\n",
    "          'args': {}\n",
    "         })\n",
    "\n",
    "p.notify({'subject':'frame_publishing.set_format',\n",
    "          'format':'bgr'})\n",
    "\n",
    "p.command('R our_recording')\n",
    "\n",
    "sleep(5.)\n",
    "\n",
    "annotation = new_annotation(label='LIGHT_ON')\n",
    "\n",
    "timeout = 10\n",
    "\n",
    "lst_future = p.lightstamper(\n",
    "    annotation=annotation,\n",
    "    threshold=15,\n",
    "    timeout=timeout,\n",
    "    subscription='frame.world')\n",
    "\n",
    "sleep(timeout)\n",
    "\n",
    "p.command('r')\n",
    "\n",
    "print(lst_future.result())"
   ]
  },
  {
   "cell_type": "markdown",
   "metadata": {},
   "source": [
    "Like `.pupil_grabber(...)`, this method runs in its own thread with `concurrent.futures`. The underlying algorithm simply grabs frames from the World Camera and sends an annotation with the timestamp linked to the first frame where the average RGB value exceeds a given threshold. To work properly, the `.light_stamper(...)` requires a suitable stimulus geometry, an appropriately tuned threshold value, and the following settings in Pupil Capture:\n",
    "\n",
    "* **Auto Exposure Mode** of the relevant camera must to be set to **Manual** \n",
    "* **Frame Publisher Format** must be set to **BGR**.\n",
    "\n",
    "In our testing, `.light_stamper(...)` flawlessy captures the first frame where a light becomes visible, as verified using Pupil Player and the Annotation Player plugin. Timestamping accuracy therefore is limited only by frame rate and how well the Pupil software is able to synchronise the clocks of the eye and world cameras. Our light source has an LED channel with enough near infrared light that it can be detected by both eye and world cameras, so we were able to test this (results elsewhere).\n",
    "\n",
    "`PupilCore(...)` also has some other cool features, like a `.fixation_trigger(...)` method that allows you to wait for a fixation that satisfies criteria relating to dispersion, duration and location of gaze samples. Check out the code for more insights!"
   ]
  }
 ],
 "metadata": {
  "kernelspec": {
   "display_name": "Python 3",
   "language": "python",
   "name": "python3"
  },
  "language_info": {
   "codemirror_mode": {
    "name": "ipython",
    "version": 3
   },
   "file_extension": ".py",
   "mimetype": "text/x-python",
   "name": "python",
   "nbconvert_exporter": "python",
   "pygments_lexer": "ipython3",
   "version": "3.7.7"
  }
 },
 "nbformat": 4,
 "nbformat_minor": 4
}
