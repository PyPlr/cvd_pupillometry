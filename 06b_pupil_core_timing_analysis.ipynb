{
 "cells": [
  {
   "cell_type": "markdown",
   "metadata": {},
   "source": [
    "Pupil Core device timing\n",
    "========================\n",
    "\n",
    "`PupilCore().light_stamper(...)` marks the onset of a light stimulus by sending an annotation containing the timestamp of the first frame where the light becomes visible to the world camera. This timestamp is ultimately what gets used to extract pupil data and as a reference for calculating time-critical measures, such as constriction latency and time-to-peak constriction. The validity of any time-related measures therefore depends on Pupil Capture's ability to synchronise the clocks of the cameras on a Pupil Core headset. How well does it handle this task? When we discovered that the near-infrared from STLABs amber channel gets detected by both eye and world cameras, we were able to [design a protocol](05e_pupil_core_camera_sync.ipynb) to test this ourselves using the `.light_stamper(...)` method. The protocol basically involved putting the Pupil Core headset inside the integrating sphere and repeatedly flashing a bright orange light in a dark room. Prior to each flash, we instantiate a `.light_stamper(...)` for each of the cameras, which gives us the pupil timestamp from the frame where the light was detected for each camera. This allows us to get some insight into how well the data streams are synchronised. \n",
    "\n",
    "We run the testing protocol on Mac and Windows with 60 and 120 FPS, for *n* = 100 near-IR light flashes. \n"
   ]
  },
  {
   "cell_type": "code",
   "execution_count": 1,
   "metadata": {},
   "outputs": [],
   "source": [
    "import os\n",
    "import os.path as op\n",
    "import glob\n",
    "\n",
    "import numpy as np\n",
    "import pandas as pd\n",
    "import seaborn as sns\n",
    "sns.set_context('notebook')"
   ]
  },
  {
   "cell_type": "markdown",
   "metadata": {},
   "source": [
    "Calculate differences from annotation timestamps\n",
    "------------------------------------------------"
   ]
  },
  {
   "cell_type": "code",
   "execution_count": 2,
   "metadata": {},
   "outputs": [
    {
     "data": {
      "text/html": [
       "<div>\n",
       "<style scoped>\n",
       "    .dataframe tbody tr th:only-of-type {\n",
       "        vertical-align: middle;\n",
       "    }\n",
       "\n",
       "    .dataframe tbody tr th {\n",
       "        vertical-align: top;\n",
       "    }\n",
       "\n",
       "    .dataframe thead th {\n",
       "        text-align: right;\n",
       "    }\n",
       "</style>\n",
       "<table border=\"1\" class=\"dataframe\">\n",
       "  <thead>\n",
       "    <tr style=\"text-align: right;\">\n",
       "      <th></th>\n",
       "      <th>Comparison</th>\n",
       "      <th>Timestamp difference (ms)</th>\n",
       "      <th>OS</th>\n",
       "      <th>FPS</th>\n",
       "    </tr>\n",
       "  </thead>\n",
       "  <tbody>\n",
       "    <tr>\n",
       "      <th>0</th>\n",
       "      <td>eye0 - world</td>\n",
       "      <td>58.807</td>\n",
       "      <td>Windows</td>\n",
       "      <td>120</td>\n",
       "    </tr>\n",
       "    <tr>\n",
       "      <th>1</th>\n",
       "      <td>eye0 - world</td>\n",
       "      <td>55.010</td>\n",
       "      <td>Windows</td>\n",
       "      <td>120</td>\n",
       "    </tr>\n",
       "    <tr>\n",
       "      <th>2</th>\n",
       "      <td>eye0 - world</td>\n",
       "      <td>58.925</td>\n",
       "      <td>Windows</td>\n",
       "      <td>120</td>\n",
       "    </tr>\n",
       "    <tr>\n",
       "      <th>3</th>\n",
       "      <td>eye0 - world</td>\n",
       "      <td>57.622</td>\n",
       "      <td>Windows</td>\n",
       "      <td>120</td>\n",
       "    </tr>\n",
       "    <tr>\n",
       "      <th>4</th>\n",
       "      <td>eye0 - world</td>\n",
       "      <td>58.371</td>\n",
       "      <td>Windows</td>\n",
       "      <td>120</td>\n",
       "    </tr>\n",
       "    <tr>\n",
       "      <th>...</th>\n",
       "      <td>...</td>\n",
       "      <td>...</td>\n",
       "      <td>...</td>\n",
       "      <td>...</td>\n",
       "    </tr>\n",
       "    <tr>\n",
       "      <th>295</th>\n",
       "      <td>eye0 - eye1</td>\n",
       "      <td>-3.959</td>\n",
       "      <td>Mac</td>\n",
       "      <td>60</td>\n",
       "    </tr>\n",
       "    <tr>\n",
       "      <th>296</th>\n",
       "      <td>eye0 - eye1</td>\n",
       "      <td>-3.968</td>\n",
       "      <td>Mac</td>\n",
       "      <td>60</td>\n",
       "    </tr>\n",
       "    <tr>\n",
       "      <th>297</th>\n",
       "      <td>eye0 - eye1</td>\n",
       "      <td>12.266</td>\n",
       "      <td>Mac</td>\n",
       "      <td>60</td>\n",
       "    </tr>\n",
       "    <tr>\n",
       "      <th>298</th>\n",
       "      <td>eye0 - eye1</td>\n",
       "      <td>-3.984</td>\n",
       "      <td>Mac</td>\n",
       "      <td>60</td>\n",
       "    </tr>\n",
       "    <tr>\n",
       "      <th>299</th>\n",
       "      <td>eye0 - eye1</td>\n",
       "      <td>-3.991</td>\n",
       "      <td>Mac</td>\n",
       "      <td>60</td>\n",
       "    </tr>\n",
       "  </tbody>\n",
       "</table>\n",
       "<p>1200 rows × 4 columns</p>\n",
       "</div>"
      ],
      "text/plain": [
       "       Comparison  Timestamp difference (ms)       OS  FPS\n",
       "0    eye0 - world                     58.807  Windows  120\n",
       "1    eye0 - world                     55.010  Windows  120\n",
       "2    eye0 - world                     58.925  Windows  120\n",
       "3    eye0 - world                     57.622  Windows  120\n",
       "4    eye0 - world                     58.371  Windows  120\n",
       "..            ...                        ...      ...  ...\n",
       "295   eye0 - eye1                     -3.959      Mac   60\n",
       "296   eye0 - eye1                     -3.968      Mac   60\n",
       "297   eye0 - eye1                     12.266      Mac   60\n",
       "298   eye0 - eye1                     -3.984      Mac   60\n",
       "299   eye0 - eye1                     -3.991      Mac   60\n",
       "\n",
       "[1200 rows x 4 columns]"
      ]
     },
     "execution_count": 2,
     "metadata": {},
     "output_type": "execute_result"
    }
   ],
   "source": [
    "datadir = '/Users/jtm/OneDrive - Nexus365/data/pupil_core_camera_sync_tests'\n",
    "recordings = glob.glob(datadir + '/**/**/**/annotations.csv')\n",
    "\n",
    "data = pd.DataFrame()\n",
    "for rec in recordings:\n",
    "    # Load annotations and get camera timestamps for detected light flash\n",
    "    df = pd.read_csv(rec)\n",
    "    eye_0 = df.loc[df.label=='light_on_eye_0', 'timestamp'].to_numpy()\n",
    "    eye_1 = df.loc[df.label=='light_on_eye_1', 'timestamp'].to_numpy() \n",
    "    world = df.loc[df.label=='light_on_world', 'timestamp'].to_numpy()\n",
    "    \n",
    "    # Calculate timestamp differences and make DataFrame\n",
    "    diffs = (pd.DataFrame(data=[(eye_0-world)*1000,\n",
    "                                (eye_1-world)*1000,\n",
    "                                (eye_0-eye_1)*1000],\n",
    "                          index=['eye0 - world',\n",
    "                                 'eye1 - world',\n",
    "                                 'eye0 - eye1'])\n",
    "               .T.melt(var_name='Comparison', \n",
    "                       value_name='Timestamp difference (ms)'))\n",
    "    \n",
    "    # Add categories for operating system and frames per second\n",
    "    diffs['OS'] = 'Mac' if 'mac' in rec else 'Windows'\n",
    "    diffs['FPS'] = '120' if '120_fps' in rec else '60'\n",
    "    diffs.to_csv(op.join(op.dirname(rec), 'annotation_timestamp_diffs.csv'))\n",
    "    \n",
    "    # Append to master frame\n",
    "    data = data.append(diffs)\n",
    "data"
   ]
  },
  {
   "cell_type": "markdown",
   "metadata": {},
   "source": [
    "Plot the timestamp differences\n",
    "------------------------------"
   ]
  },
  {
   "cell_type": "code",
   "execution_count": 3,
   "metadata": {},
   "outputs": [
    {
     "data": {
      "image/png": "[encoded data removed]",
      "text/plain": [
       "<Figure size 720x720 with 4 Axes>"
      ]
     },
     "metadata": {
      "needs_background": "light"
     },
     "output_type": "display_data"
    }
   ],
   "source": [
    "g = sns.catplot(data=data, \n",
    "                x='Comparison', \n",
    "                y='Timestamp difference (ms)', \n",
    "                row='OS', \n",
    "                col='FPS',\n",
    "                kind='box', \n",
    "                order=['eye0 - world', 'eye1 - world', 'eye0 - eye1'],\n",
    "                flierprops={'markersize':3})"
   ]
  },
  {
   "cell_type": "markdown",
   "metadata": {},
   "source": [
    "Interpretation\n",
    "--------------\n",
    "\n",
    "More information here..."
   ]
  }
 ],
 "metadata": {
  "kernelspec": {
   "display_name": "Python 3",
   "language": "python",
   "name": "python3"
  },
  "language_info": {
   "codemirror_mode": {
    "name": "ipython",
    "version": 3
   },
   "file_extension": ".py",
   "mimetype": "text/x-python",
   "name": "python",
   "nbconvert_exporter": "python",
   "pygments_lexer": "ipython3",
   "version": "3.7.7"
  }
 },
 "nbformat": 4,
 "nbformat_minor": 4
}
