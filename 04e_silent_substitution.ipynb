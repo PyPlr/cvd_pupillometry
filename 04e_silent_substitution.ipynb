{
 "cells": [
  {
   "cell_type": "markdown",
   "metadata": {},
   "source": [
    "Silent substitution\n",
    "===================\n",
    "\n",
    "The human retina has five classes of photoreceptor: rods, cones (S, M, L) and intrinsically photosenstive retinal ganglion cells (ipRGC). The rods are responsible for vision in the dark (scotopic vision) and the cones are responsible for daytime vision. The ipRGCs aThe photoreceptors are tuned to different wavelengths of light, as described by th sensetivity curve essentially describes the probability that a photoreceptor will absorb a photon of light at a given wavelength. \n",
    "\n",
    "![](../img/eye_retina.png)\n",
    "\n",
    "From the overlapping spectral sensetivity curves, it should be clear that most lights will stimulate all photoreceptors. But what if we wanted to target a light stimulus at a specific photoreceptor class?\n",
    "\n",
    "Silent substitution is an elegant technique for targeting light stimuli at a particular class of photoreceptors. The human retina has "
   ]
  },
  {
   "cell_type": "code",
   "execution_count": null,
   "metadata": {},
   "outputs": [],
   "source": []
  }
 ],
 "metadata": {
  "kernelspec": {
   "display_name": "Python 3",
   "language": "python",
   "name": "python3"
  },
  "language_info": {
   "codemirror_mode": {
    "name": "ipython",
    "version": 3
   },
   "file_extension": ".py",
   "mimetype": "text/x-python",
   "name": "python",
   "nbconvert_exporter": "python",
   "pygments_lexer": "ipython3",
   "version": "3.7.7"
  }
 },
 "nbformat": 4,
 "nbformat_minor": 4
}
