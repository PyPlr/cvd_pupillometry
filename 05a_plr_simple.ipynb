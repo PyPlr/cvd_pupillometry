{
 "cells": [
  {
   "cell_type": "markdown",
   "metadata": {},
   "source": [
    "Simple PLR\n",
    "==========\n",
    "\n",
    "This example demonstrates how to use the ``.light_stamper(...)`` and ``.pupil_grabber(...)`` methods to measure and plot a simple PLR relative to the onset of any light source given a suitable geometry. For this example it was a lightswitch in a dark room."
   ]
  },
  {
   "cell_type": "code",
   "execution_count": 3,
   "metadata": {},
   "outputs": [
    {
     "name": "stdout",
     "output_type": "stream",
     "text": [
      "Waiting for a light to stamp...\n",
      "Grabbing 10 seconds of pupil.1.3d\n",
      "Waiting for futures...\n",
      "Light stamped on frame.world at 30656.814154\n",
      "Waiting for futures...\n",
      "Waiting for futures...\n",
      "Waiting for futures...\n",
      "Waiting for futures...\n",
      "Waiting for futures...\n",
      "Waiting for futures...\n",
      "Waiting for futures...\n",
      "PupilGrabber done grabbing 10 seconds of pupil.1.3d\n"
     ]
    },
    {
     "data": {
      "image/png": "[encoded data removed]",
      "text/plain": [
       "<Figure size 432x288 with 1 Axes>"
      ]
     },
     "metadata": {
      "needs_background": "light"
     },
     "output_type": "display_data"
    }
   ],
   "source": [
    "from time import sleep\n",
    "\n",
    "import numpy as np\n",
    "\n",
    "from pyplr.pupil import PupilCore\n",
    "from pyplr.utils import unpack_data_pandas\n",
    "from pyplr.preproc import butterworth_series\n",
    "\n",
    "# Some constants\n",
    "SAMPLE_RATE = 120\n",
    "BASELINE = 2\n",
    "DURATION = 6\n",
    "ONSET = BASELINE*SAMPLE_RATE\n",
    "\n",
    "# Set up pupil core\n",
    "p = PupilCore()\n",
    "\n",
    "# Annotation to be sent when the light comes on\n",
    "annotation = p.new_annotation('LIGHT_ON')\n",
    "    \n",
    "# Start LightStamper and PupilGrabber\n",
    "lst_future = p.light_stamper(\n",
    "    annotation, \n",
    "    threshold=15, \n",
    "    timeout=DURATION)\n",
    "pgr_future = p.pupil_grabber(\n",
    "    topic='pupil.1.3d', \n",
    "    seconds=BASELINE+DURATION+2)\n",
    "    \n",
    "# Wait a few seconds...\n",
    "sleep(BASELINE)\n",
    "\n",
    "####################\n",
    "# Shine the light! #\n",
    "####################\n",
    "\n",
    "while lst_future.running() or pgr_future.running():\n",
    "    print('Waiting for futures...')\n",
    "    sleep(1)\n",
    "\n",
    "# Retrieve and process pupil data\n",
    "data = unpack_data_pandas(pgr_future.result())\n",
    "data = butterworth_series(\n",
    "    data, \n",
    "    filt_order=3, \n",
    "    cutoff_freq=4/(SAMPLE_RATE/2), \n",
    "    fields=['diameter_3d'])\n",
    "\n",
    "# Light_stamper timestamp\n",
    "ts = lst_future.result()[1]\n",
    "\n",
    "# Find the closest timestamp in the pupil data\n",
    "idx = (np.abs(ts - data.index)).argmin()\n",
    "\n",
    "# Trim and plot\n",
    "start = idx-BASELINE*SAMPLE_RATE\n",
    "end = idx+DURATION*SAMPLE_RATE\n",
    "data = data.iloc[start:end]\n",
    "data.reset_index(inplace=True)\n",
    "ax = data['diameter_3d'].plot()\n",
    "ax.axvline(x=ONSET, color='r')\n",
    "ax.set_xticks(range(0,len(data), SAMPLE_RATE+1))\n",
    "ax.set_xticklabels(range(-BASELINE,DURATION))\n",
    "ax.set_ylabel('Pupil size (mm)')\n",
    "ax.set_xlabel('Time relative to onset (s)')"
   ]
  }
 ],
 "metadata": {
  "kernelspec": {
   "display_name": "Python 3",
   "language": "python",
   "name": "python3"
  },
  "language_info": {
   "codemirror_mode": {
    "name": "ipython",
    "version": 3
   },
   "file_extension": ".py",
   "mimetype": "text/x-python",
   "name": "python",
   "nbconvert_exporter": "python",
   "pygments_lexer": "ipython3",
   "version": "3.7.7"
  }
 },
 "nbformat": 4,
 "nbformat_minor": 4
}
