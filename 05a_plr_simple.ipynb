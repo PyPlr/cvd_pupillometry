{
 "cells": [
  {
   "cell_type": "markdown",
   "metadata": {},
   "source": [
    "Simple PLR\n",
    "==========\n",
    "\n",
    "This example demonstrates how to use the ``.light_stamper(...)`` and ``.pupil_grabber(...)`` methods to measure and plot a simple PLR relative to the onset of any light source detectable by the Pupil Core World Camera, which in this case was a light switched on and off in a dark room."
   ]
  },
  {
   "cell_type": "code",
   "execution_count": 1,
   "metadata": {},
   "outputs": [
    {
     "name": "stdout",
     "output_type": "stream",
     "text": [
      "> Waiting for a light to stamp...\n",
      "> Grabbing 10 seconds of pupil.1.3d\n",
      "Waiting for futures...\n",
      "Waiting for futures...\n",
      "> Light stamped on frame.world at 451747.552097\n",
      "Waiting for futures...\n",
      "Waiting for futures...\n",
      "Waiting for futures...\n",
      "Waiting for futures...\n",
      "Waiting for futures...\n",
      "Waiting for futures...\n",
      "Waiting for futures...\n",
      "Waiting for futures...\n",
      "> PupilGrabber done grabbing 10 seconds of pupil.1.3d\n"
     ]
    },
    {
     "data": {
      "text/plain": [
       "<matplotlib.lines.Line2D at 0x118240b90>"
      ]
     },
     "execution_count": 1,
     "metadata": {},
     "output_type": "execute_result"
    },
    {
     "data": {
      "image/png": "[encoded data removed]",
      "text/plain": [
       "<Figure size 432x288 with 1 Axes>"
      ]
     },
     "metadata": {
      "needs_background": "light"
     },
     "output_type": "display_data"
    }
   ],
   "source": [
    "from time import sleep\n",
    "\n",
    "from pyplr.pupil import PupilCore\n",
    "from pyplr.utils import unpack_data_pandas\n",
    "\n",
    "# Connect to Pupil Core\n",
    "p = PupilCore()\n",
    "\n",
    "# Start a new recording called \"my_recording\"\n",
    "p.command('R my_recording')\n",
    "\n",
    "# Wait a few seconds\n",
    "sleep(2)\n",
    "\n",
    "# Make an annotation for when the light comes on\n",
    "annotation = p.new_annotation('LIGHT_ON')\n",
    "\n",
    "# Start the .light_stamper(...) and .pupil_grabber(...)\n",
    "lst_future = p.light_stamper(annotation=annotation, timeout=10)\n",
    "pgr_future = p.pupil_grabber(topic='pupil.1.3d', seconds=10)\n",
    "\n",
    "##################################\n",
    "# Administer light stimulus here #\n",
    "##################################\n",
    "\n",
    "# Wait for the futures\n",
    "while lst_future.running() or pgr_future.running():\n",
    "    print('Waiting for futures...')\n",
    "    sleep(1)\n",
    "\n",
    "# End recording\n",
    "p.command('r')\n",
    "\n",
    "# Get the timestamp and pupil data\n",
    "timestamp = lst_future.result()[1]\n",
    "data = unpack_data_pandas(pgr_future.result())\n",
    "\n",
    "# Plot the PLR\n",
    "ax = data['diameter_3d'].plot()\n",
    "ax.axvline(x=timestamp, color='k')"
   ]
  }
 ],
 "metadata": {
  "kernelspec": {
   "display_name": "Python 3",
   "language": "python",
   "name": "python3"
  },
  "language_info": {
   "codemirror_mode": {
    "name": "ipython",
    "version": 3
   },
   "file_extension": ".py",
   "mimetype": "text/x-python",
   "name": "python",
   "nbconvert_exporter": "python",
   "pygments_lexer": "ipython3",
   "version": "3.7.7"
  }
 },
 "nbformat": 4,
 "nbformat_minor": 4
}
